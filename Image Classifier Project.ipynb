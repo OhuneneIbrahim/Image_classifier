{
 "cells": [
  {
   "cell_type": "markdown",
   "metadata": {},
   "source": [
    "## Prepare the workspace"
   ]
  },
  {
   "cell_type": "markdown",
   "metadata": {},
   "source": [
    "## Image Classifier project by Rabiat Ohunene Ibrahim"
   ]
  },
  {
   "cell_type": "code",
   "execution_count": 1,
   "metadata": {},
   "outputs": [],
   "source": [
    "# Before you proceed, update the PATH\n",
    "import os\n",
    "os.environ['PATH'] = f\"{os.environ['PATH']}:/root/.local/bin\"\n",
    "os.environ['PATH'] = f\"{os.environ['PATH']}:/opt/conda/lib/python3.6/site-packages\"\n",
    "# Restart the Kernel at this point. "
   ]
  },
  {
   "cell_type": "code",
   "execution_count": 2,
   "metadata": {},
   "outputs": [
    {
     "name": "stdout",
     "output_type": "stream",
     "text": [
      "Defaulting to user installation because normal site-packages is not writeable\n",
      "\u001b[31mERROR: Could not find a version that satisfies the requirement torch==1.0.0 (from versions: 1.11.0, 1.12.0, 1.12.1, 1.13.0, 1.13.1, 2.0.0, 2.0.1)\u001b[0m\u001b[31m\n",
      "\u001b[0m\u001b[31mERROR: No matching distribution found for torch==1.0.0\u001b[0m\u001b[31m\n",
      "\u001b[0m"
     ]
    }
   ],
   "source": [
    "# Do not execute the commands below unless you have restart the Kernel after updating the PATH. \n",
    "!python -m pip install torch==1.0.0"
   ]
  },
  {
   "cell_type": "code",
   "execution_count": 3,
   "metadata": {},
   "outputs": [
    {
     "name": "stdout",
     "output_type": "stream",
     "text": [
      "2.0.1\n",
      "True\n"
     ]
    }
   ],
   "source": [
    "# Check torch version and CUDA status if GPU is enabled.\n",
    "import torch\n",
    "print(torch.__version__)\n",
    "print(torch.cuda.is_available()) # Should return True when GPU is enabled. "
   ]
  },
  {
   "cell_type": "markdown",
   "metadata": {},
   "source": [
    "# Developing an AI application\n",
    "\n",
    "Going forward, AI algorithms will be incorporated into more and more everyday applications. For example, you might want to include an image classifier in a smart phone app. To do this, you'd use a deep learning model trained on hundreds of thousands of images as part of the overall application architecture. A large part of software development in the future will be using these types of models as common parts of applications. \n",
    "\n",
    "In this project, you'll train an image classifier to recognize different species of flowers. You can imagine using something like this in a phone app that tells you the name of the flower your camera is looking at. In practice you'd train this classifier, then export it for use in your application. We'll be using [this dataset](http://www.robots.ox.ac.uk/~vgg/data/flowers/102/index.html) of 102 flower categories, you can see a few examples below. \n",
    "\n",
    "<img src='assets/Flowers.png' width=500px>\n",
    "\n",
    "The project is broken down into multiple steps:\n",
    "\n",
    "* Load and preprocess the image dataset\n",
    "* Train the image classifier on your dataset\n",
    "* Use the trained classifier to predict image content\n",
    "\n",
    "We'll lead you through each part which you'll implement in Python.\n",
    "\n",
    "When you've completed this project, you'll have an application that can be trained on any set of labeled images. Here your network will be learning about flowers and end up as a command line application. But, what you do with your new skills depends on your imagination and effort in building a dataset. For example, imagine an app where you take a picture of a car, it tells you what the make and model is, then looks up information about it. Go build your own dataset and make something new.\n",
    "\n",
    "First up is importing the packages you'll need. It's good practice to keep all the imports at the beginning of your code. As you work through this notebook and find you need to import a package, make sure to add the import up here."
   ]
  },
  {
   "cell_type": "code",
   "execution_count": 1,
   "metadata": {},
   "outputs": [],
   "source": [
    "# Imports here\n",
    "import pandas as pd\n",
    "import torch \n",
    "from torch import nn\n",
    "from torch import optim \n",
    "from torchvision import datasets, transforms, models\n",
    "import numpy as np\n",
    "from PIL import Image\n",
    "import matplotlib.pyplot as plt\n",
    "from collections import OrderedDict\n",
    "import json\n"
   ]
  },
  {
   "cell_type": "markdown",
   "metadata": {},
   "source": [
    "## Load the data\n",
    "\n",
    "Here you'll use `torchvision` to load the data ([documentation](http://pytorch.org/docs/0.3.0/torchvision/index.html)). The data should be included alongside this notebook, otherwise you can [download it here](https://s3.amazonaws.com/content.udacity-data.com/nd089/flower_data.tar.gz). "
   ]
  },
  {
   "cell_type": "markdown",
   "metadata": {},
   "source": [
    "If you do not find the `flowers/` dataset in the current directory, **/workspace/home/aipnd-project/**, you can download it using the following commands. \n",
    "\n",
    "```bash\n",
    "!wget 'https://s3.amazonaws.com/content.udacity-data.com/nd089/flower_data.tar.gz'\n",
    "!unlink flowers\n",
    "!mkdir flowers && tar -xzf flower_data.tar.gz -C flowers\n",
    "```\n"
   ]
  },
  {
   "cell_type": "markdown",
   "metadata": {},
   "source": [
    "## Data Description\n",
    "The dataset is split into three parts, training, validation, and testing. For the training, you'll want to apply transformations such as random scaling, cropping, and flipping. This will help the network generalize leading to better performance. You'll also need to make sure the input data is resized to 224x224 pixels as required by the pre-trained networks.\n",
    "\n",
    "The validation and testing sets are used to measure the model's performance on data it hasn't seen yet. For this you don't want any scaling or rotation transformations, but you'll need to resize then crop the images to the appropriate size.\n",
    "\n",
    "The pre-trained networks you'll use were trained on the ImageNet dataset where each color channel was normalized separately. For all three sets you'll need to normalize the means and standard deviations of the images to what the network expects. For the means, it's `[0.485, 0.456, 0.406]` and for the standard deviations `[0.229, 0.224, 0.225]`, calculated from the ImageNet images.  These values will shift each color channel to be centered at 0 and range from -1 to 1.\n",
    " "
   ]
  },
  {
   "cell_type": "code",
   "execution_count": 2,
   "metadata": {},
   "outputs": [],
   "source": [
    "data_dir = 'flowers'\n",
    "train_dir = data_dir + '/train'\n",
    "valid_dir = data_dir + '/valid'\n",
    "test_dir = data_dir + '/test'"
   ]
  },
  {
   "cell_type": "code",
   "execution_count": 3,
   "metadata": {},
   "outputs": [],
   "source": [
    "# TODO: Define your transforms for the training, validation, and testing sets\n",
    "train_transforms = transforms.Compose([transforms.RandomRotation(30),\n",
    "                                     transforms.RandomResizedCrop(224),\n",
    "                                     transforms.RandomHorizontalFlip(),\n",
    "                                     transforms.ToTensor(),\n",
    "                                     transforms.Normalize([0.485, 0.456, 0.406], [0.229, 0.224, 0.225])\n",
    "                                     ])\n",
    "\n",
    "validate_transforms = transforms.Compose([transforms.Resize(225),\n",
    "                                    transforms.CenterCrop(224),\n",
    "                                    transforms.ToTensor(),\n",
    "                                    transforms.Normalize([0.485, 0.456, 0.406], \n",
    "                                                         [0.229, 0.224, 0.225])\n",
    "                                    ])\n",
    "\n",
    "test_transform = transforms.Compose([transforms.Resize(225),\n",
    "                                    transforms.CenterCrop(224),\n",
    "                                    transforms.ToTensor(),\n",
    "                                    transforms.Normalize([0.485, 0.456, 0.406], \n",
    "                                                         [0.229, 0.224, 0.225])\n",
    "                                    ])\n",
    "\n",
    "# TODO: Load the datasets with ImageFolder\n",
    "train_data = datasets.ImageFolder(train_dir, transform=train_transforms) \n",
    "validate_data = datasets.ImageFolder(valid_dir, transform=validate_transforms)\n",
    "test_data = datasets.ImageFolder(test_dir, transform= test_transform)\n",
    "\n",
    "# TODO: Using the image datasets and the trainforms, define the dataloaders\n",
    "train_loader = torch.utils.data.DataLoader(train_data, batch_size=64, shuffle=True)\n",
    "validate_loader = torch.utils.data.DataLoader(validate_data, batch_size=64)\n",
    "test_loader=torch.utils.data.DataLoader(test_data, batch_size=64)"
   ]
  },
  {
   "cell_type": "markdown",
   "metadata": {},
   "source": [
    "### Label mapping\n",
    "\n",
    "You'll also need to load in a mapping from category label to category name. You can find this in the file `cat_to_name.json`. It's a JSON object which you can read in with the [`json` module](https://docs.python.org/2/library/json.html). This will give you a dictionary mapping the integer encoded categories to the actual names of the flowers."
   ]
  },
  {
   "cell_type": "code",
   "execution_count": 4,
   "metadata": {},
   "outputs": [],
   "source": [
    "#import json\n",
    "\n",
    "with open('cat_to_name.json', 'r') as f:\n",
    "    cat_to_name = json.load(f)"
   ]
  },
  {
   "cell_type": "markdown",
   "metadata": {},
   "source": [
    "# Building and training the classifier\n",
    "\n",
    "Now that the data is ready, it's time to build and train the classifier. As usual, you should use one of the pretrained models from `torchvision.models` to get the image features. Build and train a new feed-forward classifier using those features.\n",
    "\n",
    "We're going to leave this part up to you. Refer to [the rubric](https://review.udacity.com/#!/rubrics/1663/view) for guidance on successfully completing this section. Things you'll need to do:\n",
    "\n",
    "* Load a [pre-trained network](http://pytorch.org/docs/master/torchvision/models.html) (If you need a starting point, the VGG networks work great and are straightforward to use)\n",
    "* Define a new, untrained feed-forward network as a classifier, using ReLU activations and dropout\n",
    "* Train the classifier layers using backpropagation using the pre-trained network to get the features\n",
    "* Track the loss and accuracy on the validation set to determine the best hyperparameters\n",
    "\n",
    "We've left a cell open for you below, but use as many as you need. Our advice is to break the problem up into smaller parts you can run separately. Check that each part is doing what you expect, then move on to the next. You'll likely find that as you work through each part, you'll need to go back and modify your previous code. This is totally normal!\n",
    "\n",
    "When training make sure you're updating only the weights of the feed-forward network. You should be able to get the validation accuracy above 70% if you build everything right. Make sure to try different hyperparameters (learning rate, units in the classifier, epochs, etc) to find the best model. Save those hyperparameters to use as default values in the next part of the project.\n",
    "\n",
    "One last important tip if you're using the workspace to run your code: To avoid having your workspace disconnect during the long-running tasks in this notebook, please read in the earlier page in this lesson called Intro to\n",
    "GPU Workspaces about Keeping Your Session Active. You'll want to include code from the workspace_utils.py module.\n",
    "\n",
    "## Note for Workspace users: \n",
    "If your network is over 1 GB when saved as a checkpoint, there might be issues with saving backups in your workspace. Typically this happens with wide dense layers after the convolutional layers. If your saved checkpoint is larger than 1 GB (you can open a terminal and check with `ls -lh`), you should reduce the size of your hidden layers and train again."
   ]
  },
  {
   "cell_type": "code",
   "execution_count": 5,
   "metadata": {},
   "outputs": [],
   "source": [
    "def model_paramaters():\n",
    "    model = models.vgg16(pretrained=True)\n",
    "    for param in model.parameters():\n",
    "        param.requires_grad= False\n",
    "\n",
    "    classifier = nn.Sequential(OrderedDict([(\"fc1\", nn.Linear(25088, 500)),\n",
    "                               (\"relu\", nn.ReLU()),\n",
    "                                (\"Dropout\", nn.Dropout(p=0.2)),\n",
    "                                (\"fc2\", nn.Linear(500, 256)),\n",
    "                                (\"relu\", nn.ReLU()),\n",
    "                                (\"Dropout\", nn.Dropout(p=0.2)),\n",
    "                               (\"fc3\", nn.Linear(256, 102)),\n",
    "                              (\"output\", nn.LogSoftmax(dim=1))]))\n",
    "    \n",
    "    \n",
    "    model.classifier = classifier\n",
    "    return model"
   ]
  },
  {
   "cell_type": "code",
   "execution_count": 9,
   "metadata": {},
   "outputs": [
    {
     "name": "stderr",
     "output_type": "stream",
     "text": [
      "/opt/conda/lib/python3.10/site-packages/torchvision/models/_utils.py:208: UserWarning: The parameter 'pretrained' is deprecated since 0.13 and may be removed in the future, please use 'weights' instead.\n",
      "  warnings.warn(\n",
      "/opt/conda/lib/python3.10/site-packages/torchvision/models/_utils.py:223: UserWarning: Arguments other than a weight enum or `None` for 'weights' are deprecated since 0.13 and may be removed in the future. The current behavior is equivalent to passing `weights=VGG16_Weights.IMAGENET1K_V1`. You can also use `weights=VGG16_Weights.DEFAULT` to get the most up-to-date weights.\n",
      "  warnings.warn(msg)\n",
      "Downloading: \"https://download.pytorch.org/models/vgg16-397923af.pth\" to /home/student/.cache/torch/hub/checkpoints/vgg16-397923af.pth\n",
      "100%|██████████| 528M/528M [00:05<00:00, 94.6MB/s] \n"
     ]
    },
    {
     "data": {
      "text/plain": [
       "VGG(\n",
       "  (features): Sequential(\n",
       "    (0): Conv2d(3, 64, kernel_size=(3, 3), stride=(1, 1), padding=(1, 1))\n",
       "    (1): ReLU(inplace=True)\n",
       "    (2): Conv2d(64, 64, kernel_size=(3, 3), stride=(1, 1), padding=(1, 1))\n",
       "    (3): ReLU(inplace=True)\n",
       "    (4): MaxPool2d(kernel_size=2, stride=2, padding=0, dilation=1, ceil_mode=False)\n",
       "    (5): Conv2d(64, 128, kernel_size=(3, 3), stride=(1, 1), padding=(1, 1))\n",
       "    (6): ReLU(inplace=True)\n",
       "    (7): Conv2d(128, 128, kernel_size=(3, 3), stride=(1, 1), padding=(1, 1))\n",
       "    (8): ReLU(inplace=True)\n",
       "    (9): MaxPool2d(kernel_size=2, stride=2, padding=0, dilation=1, ceil_mode=False)\n",
       "    (10): Conv2d(128, 256, kernel_size=(3, 3), stride=(1, 1), padding=(1, 1))\n",
       "    (11): ReLU(inplace=True)\n",
       "    (12): Conv2d(256, 256, kernel_size=(3, 3), stride=(1, 1), padding=(1, 1))\n",
       "    (13): ReLU(inplace=True)\n",
       "    (14): Conv2d(256, 256, kernel_size=(3, 3), stride=(1, 1), padding=(1, 1))\n",
       "    (15): ReLU(inplace=True)\n",
       "    (16): MaxPool2d(kernel_size=2, stride=2, padding=0, dilation=1, ceil_mode=False)\n",
       "    (17): Conv2d(256, 512, kernel_size=(3, 3), stride=(1, 1), padding=(1, 1))\n",
       "    (18): ReLU(inplace=True)\n",
       "    (19): Conv2d(512, 512, kernel_size=(3, 3), stride=(1, 1), padding=(1, 1))\n",
       "    (20): ReLU(inplace=True)\n",
       "    (21): Conv2d(512, 512, kernel_size=(3, 3), stride=(1, 1), padding=(1, 1))\n",
       "    (22): ReLU(inplace=True)\n",
       "    (23): MaxPool2d(kernel_size=2, stride=2, padding=0, dilation=1, ceil_mode=False)\n",
       "    (24): Conv2d(512, 512, kernel_size=(3, 3), stride=(1, 1), padding=(1, 1))\n",
       "    (25): ReLU(inplace=True)\n",
       "    (26): Conv2d(512, 512, kernel_size=(3, 3), stride=(1, 1), padding=(1, 1))\n",
       "    (27): ReLU(inplace=True)\n",
       "    (28): Conv2d(512, 512, kernel_size=(3, 3), stride=(1, 1), padding=(1, 1))\n",
       "    (29): ReLU(inplace=True)\n",
       "    (30): MaxPool2d(kernel_size=2, stride=2, padding=0, dilation=1, ceil_mode=False)\n",
       "  )\n",
       "  (avgpool): AdaptiveAvgPool2d(output_size=(7, 7))\n",
       "  (classifier): Sequential(\n",
       "    (fc1): Linear(in_features=25088, out_features=500, bias=True)\n",
       "    (relu): ReLU()\n",
       "    (Dropout): Dropout(p=0.2, inplace=False)\n",
       "    (fc2): Linear(in_features=500, out_features=256, bias=True)\n",
       "    (fc3): Linear(in_features=256, out_features=102, bias=True)\n",
       "    (output): LogSoftmax(dim=1)\n",
       "  )\n",
       ")"
      ]
     },
     "execution_count": 9,
     "metadata": {},
     "output_type": "execute_result"
    }
   ],
   "source": [
    "model = model_paramaters()\n",
    "device = torch.device(\"cuda:0\" if torch.cuda.is_available() else \"cpu\")\n",
    "model.to(device)"
   ]
  },
  {
   "cell_type": "code",
   "execution_count": 10,
   "metadata": {},
   "outputs": [
    {
     "data": {
      "text/plain": [
       "device(type='cuda', index=0)"
      ]
     },
     "execution_count": 10,
     "metadata": {},
     "output_type": "execute_result"
    }
   ],
   "source": [
    "criterion = nn.NLLLoss()\n",
    "optimizer = optim.Adam(model.classifier.parameters(), lr=0.001)\n",
    "\n",
    "device"
   ]
  },
  {
   "cell_type": "code",
   "execution_count": 11,
   "metadata": {},
   "outputs": [
    {
     "name": "stdout",
     "output_type": "stream",
     "text": [
      "Epoch 1/5.. Train loss: 4.651.. Test loss: 4.087.. Test accuracy: 0.207\n",
      "Epoch 1/5.. Train loss: 4.158.. Test loss: 3.497.. Test accuracy: 0.227\n",
      "Epoch 1/5.. Train loss: 3.660.. Test loss: 3.126.. Test accuracy: 0.307\n",
      "Epoch 1/5.. Train loss: 3.481.. Test loss: 2.613.. Test accuracy: 0.415\n",
      "Epoch 1/5.. Train loss: 2.953.. Test loss: 2.234.. Test accuracy: 0.466\n",
      "Epoch 1/5.. Train loss: 2.617.. Test loss: 2.002.. Test accuracy: 0.508\n",
      "Epoch 1/5.. Train loss: 2.208.. Test loss: 1.723.. Test accuracy: 0.578\n",
      "Epoch 1/5.. Train loss: 2.357.. Test loss: 1.696.. Test accuracy: 0.570\n",
      "Epoch 1/5.. Train loss: 2.141.. Test loss: 1.425.. Test accuracy: 0.633\n",
      "Epoch 1/5.. Train loss: 2.041.. Test loss: 1.346.. Test accuracy: 0.609\n",
      "Epoch 1/5.. Train loss: 1.804.. Test loss: 1.341.. Test accuracy: 0.627\n",
      "Epoch 1/5.. Train loss: 1.818.. Test loss: 1.198.. Test accuracy: 0.682\n",
      "Epoch 1/5.. Train loss: 1.588.. Test loss: 1.116.. Test accuracy: 0.680\n",
      "Epoch 1/5.. Train loss: 1.520.. Test loss: 1.010.. Test accuracy: 0.712\n",
      "Epoch 1/5.. Train loss: 1.602.. Test loss: 1.025.. Test accuracy: 0.715\n",
      "Epoch 1/5.. Train loss: 1.559.. Test loss: 0.947.. Test accuracy: 0.725\n",
      "Epoch 1/5.. Train loss: 1.491.. Test loss: 1.091.. Test accuracy: 0.700\n",
      "Epoch 1/5.. Train loss: 1.581.. Test loss: 1.136.. Test accuracy: 0.695\n",
      "Epoch 1/5.. Train loss: 1.460.. Test loss: 1.029.. Test accuracy: 0.718\n",
      "Epoch 1/5.. Train loss: 1.348.. Test loss: 1.091.. Test accuracy: 0.707\n",
      "Epoch 2/5.. Train loss: 0.496.. Test loss: 0.945.. Test accuracy: 0.731\n",
      "Epoch 2/5.. Train loss: 1.201.. Test loss: 1.005.. Test accuracy: 0.714\n",
      "Epoch 2/5.. Train loss: 1.398.. Test loss: 0.863.. Test accuracy: 0.743\n",
      "Epoch 2/5.. Train loss: 1.451.. Test loss: 0.801.. Test accuracy: 0.763\n",
      "Epoch 2/5.. Train loss: 1.262.. Test loss: 0.817.. Test accuracy: 0.764\n",
      "Epoch 2/5.. Train loss: 1.324.. Test loss: 0.752.. Test accuracy: 0.798\n",
      "Epoch 2/5.. Train loss: 1.057.. Test loss: 0.769.. Test accuracy: 0.787\n",
      "Epoch 2/5.. Train loss: 1.305.. Test loss: 0.814.. Test accuracy: 0.772\n",
      "Epoch 2/5.. Train loss: 1.329.. Test loss: 0.735.. Test accuracy: 0.790\n",
      "Epoch 2/5.. Train loss: 1.055.. Test loss: 0.804.. Test accuracy: 0.789\n",
      "Epoch 2/5.. Train loss: 1.210.. Test loss: 0.797.. Test accuracy: 0.789\n",
      "Epoch 2/5.. Train loss: 1.158.. Test loss: 0.799.. Test accuracy: 0.780\n",
      "Epoch 2/5.. Train loss: 1.466.. Test loss: 0.747.. Test accuracy: 0.793\n",
      "Epoch 2/5.. Train loss: 0.995.. Test loss: 0.753.. Test accuracy: 0.779\n",
      "Epoch 2/5.. Train loss: 1.119.. Test loss: 0.709.. Test accuracy: 0.798\n",
      "Epoch 2/5.. Train loss: 1.198.. Test loss: 0.648.. Test accuracy: 0.824\n",
      "Epoch 2/5.. Train loss: 1.124.. Test loss: 0.678.. Test accuracy: 0.806\n",
      "Epoch 2/5.. Train loss: 1.236.. Test loss: 0.691.. Test accuracy: 0.795\n",
      "Epoch 2/5.. Train loss: 1.148.. Test loss: 0.670.. Test accuracy: 0.819\n",
      "Epoch 2/5.. Train loss: 1.157.. Test loss: 0.608.. Test accuracy: 0.829\n",
      "Epoch 2/5.. Train loss: 1.062.. Test loss: 0.686.. Test accuracy: 0.809\n",
      "Epoch 3/5.. Train loss: 0.714.. Test loss: 0.803.. Test accuracy: 0.792\n",
      "Epoch 3/5.. Train loss: 1.032.. Test loss: 0.720.. Test accuracy: 0.813\n",
      "Epoch 3/5.. Train loss: 1.087.. Test loss: 0.675.. Test accuracy: 0.816\n",
      "Epoch 3/5.. Train loss: 0.989.. Test loss: 0.698.. Test accuracy: 0.810\n",
      "Epoch 3/5.. Train loss: 1.022.. Test loss: 0.637.. Test accuracy: 0.835\n",
      "Epoch 3/5.. Train loss: 0.981.. Test loss: 0.660.. Test accuracy: 0.810\n",
      "Epoch 3/5.. Train loss: 1.098.. Test loss: 0.649.. Test accuracy: 0.820\n",
      "Epoch 3/5.. Train loss: 0.996.. Test loss: 0.739.. Test accuracy: 0.816\n",
      "Epoch 3/5.. Train loss: 1.063.. Test loss: 0.727.. Test accuracy: 0.805\n",
      "Epoch 3/5.. Train loss: 0.962.. Test loss: 0.742.. Test accuracy: 0.789\n",
      "Epoch 3/5.. Train loss: 1.104.. Test loss: 0.769.. Test accuracy: 0.776\n",
      "Epoch 3/5.. Train loss: 1.044.. Test loss: 0.709.. Test accuracy: 0.806\n",
      "Epoch 3/5.. Train loss: 1.055.. Test loss: 0.674.. Test accuracy: 0.828\n",
      "Epoch 3/5.. Train loss: 1.043.. Test loss: 0.660.. Test accuracy: 0.824\n",
      "Epoch 3/5.. Train loss: 1.042.. Test loss: 0.662.. Test accuracy: 0.821\n",
      "Epoch 3/5.. Train loss: 1.188.. Test loss: 0.644.. Test accuracy: 0.846\n",
      "Epoch 3/5.. Train loss: 0.958.. Test loss: 0.651.. Test accuracy: 0.838\n",
      "Epoch 3/5.. Train loss: 0.996.. Test loss: 0.666.. Test accuracy: 0.827\n",
      "Epoch 3/5.. Train loss: 1.109.. Test loss: 0.643.. Test accuracy: 0.825\n",
      "Epoch 3/5.. Train loss: 1.071.. Test loss: 0.696.. Test accuracy: 0.818\n",
      "Epoch 4/5.. Train loss: 0.143.. Test loss: 0.634.. Test accuracy: 0.826\n",
      "Epoch 4/5.. Train loss: 1.024.. Test loss: 0.639.. Test accuracy: 0.822\n",
      "Epoch 4/5.. Train loss: 0.943.. Test loss: 0.709.. Test accuracy: 0.799\n",
      "Epoch 4/5.. Train loss: 1.124.. Test loss: 0.648.. Test accuracy: 0.815\n",
      "Epoch 4/5.. Train loss: 0.764.. Test loss: 0.665.. Test accuracy: 0.822\n",
      "Epoch 4/5.. Train loss: 1.017.. Test loss: 0.620.. Test accuracy: 0.825\n",
      "Epoch 4/5.. Train loss: 0.840.. Test loss: 0.586.. Test accuracy: 0.846\n",
      "Epoch 4/5.. Train loss: 0.861.. Test loss: 0.531.. Test accuracy: 0.843\n",
      "Epoch 4/5.. Train loss: 0.943.. Test loss: 0.528.. Test accuracy: 0.858\n",
      "Epoch 4/5.. Train loss: 0.934.. Test loss: 0.508.. Test accuracy: 0.853\n",
      "Epoch 4/5.. Train loss: 0.902.. Test loss: 0.591.. Test accuracy: 0.836\n",
      "Epoch 4/5.. Train loss: 0.841.. Test loss: 0.522.. Test accuracy: 0.855\n",
      "Epoch 4/5.. Train loss: 0.956.. Test loss: 0.491.. Test accuracy: 0.860\n",
      "Epoch 4/5.. Train loss: 0.721.. Test loss: 0.502.. Test accuracy: 0.860\n",
      "Epoch 4/5.. Train loss: 1.059.. Test loss: 0.517.. Test accuracy: 0.860\n",
      "Epoch 4/5.. Train loss: 0.972.. Test loss: 0.506.. Test accuracy: 0.856\n",
      "Epoch 4/5.. Train loss: 0.940.. Test loss: 0.523.. Test accuracy: 0.854\n",
      "Epoch 4/5.. Train loss: 1.069.. Test loss: 0.527.. Test accuracy: 0.853\n",
      "Epoch 4/5.. Train loss: 0.879.. Test loss: 0.548.. Test accuracy: 0.836\n",
      "Epoch 4/5.. Train loss: 0.856.. Test loss: 0.542.. Test accuracy: 0.839\n",
      "Epoch 4/5.. Train loss: 0.939.. Test loss: 0.538.. Test accuracy: 0.851\n",
      "Epoch 5/5.. Train loss: 0.536.. Test loss: 0.567.. Test accuracy: 0.837\n",
      "Epoch 5/5.. Train loss: 0.871.. Test loss: 0.597.. Test accuracy: 0.836\n",
      "Epoch 5/5.. Train loss: 0.995.. Test loss: 0.577.. Test accuracy: 0.845\n",
      "Epoch 5/5.. Train loss: 0.839.. Test loss: 0.595.. Test accuracy: 0.840\n",
      "Epoch 5/5.. Train loss: 0.994.. Test loss: 0.595.. Test accuracy: 0.856\n",
      "Epoch 5/5.. Train loss: 0.832.. Test loss: 0.649.. Test accuracy: 0.832\n",
      "Epoch 5/5.. Train loss: 0.913.. Test loss: 0.670.. Test accuracy: 0.822\n",
      "Epoch 5/5.. Train loss: 0.964.. Test loss: 0.622.. Test accuracy: 0.833\n",
      "Epoch 5/5.. Train loss: 0.885.. Test loss: 0.592.. Test accuracy: 0.832\n",
      "Epoch 5/5.. Train loss: 0.951.. Test loss: 0.606.. Test accuracy: 0.843\n",
      "Epoch 5/5.. Train loss: 0.752.. Test loss: 0.569.. Test accuracy: 0.845\n",
      "Epoch 5/5.. Train loss: 1.036.. Test loss: 0.565.. Test accuracy: 0.847\n",
      "Epoch 5/5.. Train loss: 0.694.. Test loss: 0.577.. Test accuracy: 0.842\n",
      "Epoch 5/5.. Train loss: 0.942.. Test loss: 0.652.. Test accuracy: 0.828\n",
      "Epoch 5/5.. Train loss: 1.012.. Test loss: 0.592.. Test accuracy: 0.834\n",
      "Epoch 5/5.. Train loss: 0.792.. Test loss: 0.590.. Test accuracy: 0.841\n",
      "Epoch 5/5.. Train loss: 0.775.. Test loss: 0.627.. Test accuracy: 0.841\n",
      "Epoch 5/5.. Train loss: 0.934.. Test loss: 0.671.. Test accuracy: 0.833\n",
      "Epoch 5/5.. Train loss: 0.994.. Test loss: 0.701.. Test accuracy: 0.836\n",
      "Epoch 5/5.. Train loss: 0.994.. Test loss: 0.595.. Test accuracy: 0.852\n",
      "Epoch 5/5.. Train loss: 0.852.. Test loss: 0.615.. Test accuracy: 0.839\n"
     ]
    }
   ],
   "source": [
    "#from workspace_utils import active_session\n",
    "\n",
    "#with active_session():    \n",
    "epochs = 5\n",
    "steps = 0\n",
    "print_on = 5\n",
    "#train_loss, validate_loss=[], []\n",
    "for epoch in range(epochs):\n",
    "    running_loss = 0\n",
    "    for image, label in train_loader:\n",
    "        steps +=1\n",
    "        image, label = image.to(device), label.to(device)\n",
    "        \n",
    "        \n",
    "        train_image = model.forward(image)\n",
    "        loss= criterion(train_image, label)\n",
    "        running_loss += loss.item()\n",
    "        \n",
    "        optimizer.zero_grad()\n",
    "        loss.backward()\n",
    "        optimizer.step()\n",
    "        \n",
    "        \n",
    "        if steps % print_on ==0:\n",
    "            validateloss=0\n",
    "            accuracy = 0\n",
    "            model.eval()\n",
    "            with torch.no_grad():\n",
    "                for image, label in validate_loader:\n",
    "                    image, label = image.to(device), label.to(device)\n",
    "                    val_image = model.forward(image)\n",
    "                    val_loss=criterion(val_image, label)\n",
    "                    \n",
    "                    validateloss +=val_loss.item()\n",
    "                    \n",
    "                    #Accuracy\n",
    "                    \n",
    "                    ps = torch.exp(val_image)\n",
    "                    top_p, top_class = ps.topk(1, dim=1)\n",
    "                    equal = top_class == label.view(*top_class.shape)\n",
    "                    accuracy += torch.mean(equal.type(torch.FloatTensor)).item()\n",
    "                    \n",
    "            \n",
    "           # train_loss.append(running_loss/print_on)\n",
    "            #validate_loss.append(validateloss/len(validate_loader.dataset))\n",
    "            print(f\"Epoch {epoch +1}/{epochs}.. \"\n",
    "                  f\"Train loss: {running_loss/print_on:.3f}.. \"\n",
    "                  f\"Test loss: {validateloss/len(validate_loader):.3f}.. \"\n",
    "                  f\"Test accuracy: {accuracy/len(validate_loader):.3f}\")\n",
    "            running_loss = 0\n",
    "            model.train()"
   ]
  },
  {
   "cell_type": "markdown",
   "metadata": {},
   "source": [
    "## Testing your network\n",
    "\n",
    "It's good practice to test your trained network on test data, images the network has never seen either in training or validation. This will give you a good estimate for the model's performance on completely new images. Run the test images through the network and measure the accuracy, the same way you did validation. You should be able to reach around 70% accuracy on the test set if the model has been trained well."
   ]
  },
  {
   "cell_type": "code",
   "execution_count": 12,
   "metadata": {},
   "outputs": [
    {
     "name": "stdout",
     "output_type": "stream",
     "text": [
      "Test accuracy: 0.775\n"
     ]
    }
   ],
   "source": [
    "# TODO: Do validation on the test set\n",
    "testloss=0\n",
    "test_accuracy = 0\n",
    "with torch.no_grad():\n",
    "    for image, label in test_loader:\n",
    "        image, label = image.to(device), label.to(device)\n",
    "        test_image = model.forward(image)\n",
    "        test_loss=criterion(test_image, label)\n",
    "                    \n",
    "        testloss +=test_loss.item()\n",
    "                    \n",
    "                    #Accuracy\n",
    "                    \n",
    "        ps = torch.exp(test_image)\n",
    "        top_p, top_class = ps.topk(1, dim=1)\n",
    "        equal = top_class == label.view(*top_class.shape)\n",
    "        test_accuracy += torch.mean(equal.type(torch.FloatTensor)).item()\n",
    "    \n",
    "    \n",
    "print(f\"Test accuracy: {test_accuracy/len(test_loader):.3f}\")"
   ]
  },
  {
   "cell_type": "markdown",
   "metadata": {},
   "source": [
    "## Save the checkpoint\n",
    "\n",
    "Now that your network is trained, save the model so you can load it later for making predictions. You probably want to save other things such as the mapping of classes to indices which you get from one of the image datasets: `image_datasets['train'].class_to_idx`. You can attach this to the model as an attribute which makes inference easier later on.\n",
    "\n",
    "```model.class_to_idx = image_datasets['train'].class_to_idx```\n",
    "\n",
    "Remember that you'll want to completely rebuild the model later so you can use it for inference. Make sure to include any information you need in the checkpoint. If you want to load the model and keep training, you'll want to save the number of epochs as well as the optimizer state, `optimizer.state_dict`. You'll likely want to use this trained model in the next part of the project, so best to save it now."
   ]
  },
  {
   "cell_type": "code",
   "execution_count": 13,
   "metadata": {},
   "outputs": [],
   "source": [
    "# TODO: Save the checkpoint \n",
    "model.class_to_idx = train_data.class_to_idx\n",
    "checkpoint = {'pre-trained model': 'vgg16',\n",
    "              'classifier':model.classifier,\n",
    "              'classifier_input_size': 25088,\n",
    "              'classifier_output_size':102,\n",
    "              'learning_rate':0.001,\n",
    "              'criterion':nn.NLLLoss(),\n",
    "              'epoch': 5,\n",
    "              'model_state_dict': model.state_dict(),\n",
    "              'optimizer_state_dict': optimizer.state_dict(),\n",
    "              'class_to_idx': model.class_to_idx,\n",
    "              'Dropout_propability':0.2\n",
    "\n",
    "   \n",
    "}\n",
    "\n",
    "checkpoint_path = 'model_checkpoint.pth'\n",
    "torch.save(checkpoint, checkpoint_path)"
   ]
  },
  {
   "cell_type": "code",
   "execution_count": null,
   "metadata": {},
   "outputs": [],
   "source": []
  },
  {
   "cell_type": "markdown",
   "metadata": {},
   "source": [
    "## Loading the checkpoint\n",
    "\n",
    "At this point it's good to write a function that can load a checkpoint and rebuild the model. That way you can come back to this project and keep working on it without having to retrain the network."
   ]
  },
  {
   "cell_type": "code",
   "execution_count": 18,
   "metadata": {},
   "outputs": [],
   "source": [
    "def load_model_from_checkpoint(checkpoint_path):\n",
    "    checkpoint = torch.load(checkpoint_path)\n",
    "    \n",
    "    # Load the pre-trained model \n",
    "    pre_trained_model_name = checkpoint['pre-trained model']\n",
    "    model = model_paramaters()\n",
    "    #optimizer = optim.Adam(model.parameters(), lr=0.001)\n",
    "    \n",
    "    # Load the model's state dictionary and optimizer's state dictionary\n",
    "    \n",
    "    model.load_state_dict(checkpoint['model_state_dict'])\n",
    "    model.class_to_idx = checkpoint['class_to_idx']\n",
    "    #optimizer.load_state_dict(checkpoint['optimizer_state_dict'])\n",
    "    \n",
    "    \n",
    "    # Other details\n",
    "    learning_rate = checkpoint['learning_rate']\n",
    "    criterion = checkpoint['criterion']\n",
    "    epoch = checkpoint['epoch']\n",
    "    model.eval()\n",
    "    # Return the loaded model \n",
    "    return model\n",
    "\n"
   ]
  },
  {
   "cell_type": "markdown",
   "metadata": {},
   "source": [
    "# Inference for classification\n",
    "\n",
    "Now you'll write a function to use a trained network for inference. That is, you'll pass an image into the network and predict the class of the flower in the image. Write a function called `predict` that takes an image and a model, then returns the top $K$ most likely classes along with the probabilities. It should look like \n",
    "\n",
    "```python\n",
    "probs, classes = predict(image_path, model)\n",
    "print(probs)\n",
    "print(classes)\n",
    "> [ 0.01558163  0.01541934  0.01452626  0.01443549  0.01407339]\n",
    "> ['70', '3', '45', '62', '55']\n",
    "```\n",
    "\n",
    "First you'll need to handle processing the input image such that it can be used in your network. \n",
    "\n",
    "## Image Preprocessing\n",
    "\n",
    "You'll want to use `PIL` to load the image ([documentation](https://pillow.readthedocs.io/en/latest/reference/Image.html)). It's best to write a function that preprocesses the image so it can be used as input for the model. This function should process the images in the same manner used for training. \n",
    "\n",
    "First, resize the images where the shortest side is 256 pixels, keeping the aspect ratio. This can be done with the [`thumbnail`](http://pillow.readthedocs.io/en/3.1.x/reference/Image.html#PIL.Image.Image.thumbnail) or [`resize`](http://pillow.readthedocs.io/en/3.1.x/reference/Image.html#PIL.Image.Image.thumbnail) methods. Then you'll need to crop out the center 224x224 portion of the image.\n",
    "\n",
    "Color channels of images are typically encoded as integers 0-255, but the model expected floats 0-1. You'll need to convert the values. It's easiest with a Numpy array, which you can get from a PIL image like so `np_image = np.array(pil_image)`.\n",
    "\n",
    "As before, the network expects the images to be normalized in a specific way. For the means, it's `[0.485, 0.456, 0.406]` and for the standard deviations `[0.229, 0.224, 0.225]`. You'll want to subtract the means from each color channel, then divide by the standard deviation. \n",
    "\n",
    "And finally, PyTorch expects the color channel to be the first dimension but it's the third dimension in the PIL image and Numpy array. You can reorder dimensions using [`ndarray.transpose`](https://docs.scipy.org/doc/numpy-1.13.0/reference/generated/numpy.ndarray.transpose.html). The color channel needs to be first and retain the order of the other two dimensions."
   ]
  },
  {
   "cell_type": "code",
   "execution_count": 19,
   "metadata": {},
   "outputs": [],
   "source": [
    "def process_image(image):\n",
    "    ''' Scales, crops, and normalizes a PIL image for a PyTorch model,\n",
    "        returns an Numpy array\n",
    "    '''\n",
    "    \n",
    "    # TODO: Process a PIL image for use in a PyTorch model\n",
    "    image_transform =  transforms.Compose([transforms.Resize(256),\n",
    "                                     transforms.CenterCrop(224),\n",
    "                                     transforms.ToTensor(),\n",
    "                                     transforms.Normalize([0.485, 0.456, 0.406], \n",
    "                                                          [0.229, 0.224, 0.225])\n",
    "                                     ])\n",
    "    with Image.open(image) as im:\n",
    "        image = image_transform(im)\n",
    "    return image"
   ]
  },
  {
   "cell_type": "markdown",
   "metadata": {},
   "source": [
    "To check your work, the function below converts a PyTorch tensor and displays it in the notebook. If your `process_image` function works, running the output through this function should return the original image (except for the cropped out portions)."
   ]
  },
  {
   "cell_type": "code",
   "execution_count": 20,
   "metadata": {},
   "outputs": [],
   "source": [
    "def imshow(image, ax=None, title=None):\n",
    "    \"\"\"Imshow for Tensor.\"\"\"\n",
    "    if ax is None:\n",
    "        fig, ax = plt.subplots()\n",
    "    \n",
    "    # PyTorch tensors assume the color channel is the first dimension\n",
    "    # but matplotlib assumes is the third dimension\n",
    "    image = image.numpy().transpose((1, 2, 0))\n",
    "    \n",
    "    # Undo preprocessing\n",
    "    mean = np.array([0.485, 0.456, 0.406])\n",
    "    std = np.array([0.229, 0.224, 0.225])\n",
    "    image = std * image + mean\n",
    "    \n",
    "    # Image needs to be clipped between 0 and 1 or it looks like noise when displayed\n",
    "    image = np.clip(image, 0, 1)\n",
    "    \n",
    "    ax.imshow(image)\n",
    "    \n",
    "    return ax"
   ]
  },
  {
   "cell_type": "markdown",
   "metadata": {},
   "source": [
    "## Class Prediction\n",
    "\n",
    "Once you can get images in the correct format, it's time to write a function for making predictions with your model. A common practice is to predict the top 5 or so (usually called top-$K$) most probable classes. You'll want to calculate the class probabilities then find the $K$ largest values.\n",
    "\n",
    "To get the top $K$ largest values in a tensor use [`x.topk(k)`](http://pytorch.org/docs/master/torch.html#torch.topk). This method returns both the highest `k` probabilities and the indices of those probabilities corresponding to the classes. You need to convert from these indices to the actual class labels using `class_to_idx` which hopefully you added to the model or from an `ImageFolder` you used to load the data ([see here](#Save-the-checkpoint)). Make sure to invert the dictionary so you get a mapping from index to class as well.\n",
    "\n",
    "Again, this method should take a path to an image and a model checkpoint, then return the probabilities and classes.\n",
    "\n",
    "```python\n",
    "probs, classes = predict(image_path, model)\n",
    "print(probs)\n",
    "print(classes)\n",
    "> [ 0.01558163  0.01541934  0.01452626  0.01443549  0.01407339]\n",
    "> ['70', '3', '45', '62', '55']\n",
    "```"
   ]
  },
  {
   "cell_type": "code",
   "execution_count": null,
   "metadata": {},
   "outputs": [],
   "source": []
  },
  {
   "cell_type": "code",
   "execution_count": 39,
   "metadata": {},
   "outputs": [],
   "source": [
    "def predict(image_path, model, topk=5):\n",
    "    ''' Predict the class (or classes) of an image using a trained deep learning model.\n",
    "    '''\n",
    "    \n",
    "    # TODO: Implement the code to predict the class from an image file\n",
    "    device = torch.device(\"cuda:0\" if torch.cuda.is_available() else \"cpu\")\n",
    "    model.to(device)\n",
    "    #model.eval()\n",
    "    Processed_img = process_image(image_path)\n",
    "    numpy_img = Processed_img.numpy()\n",
    "    batched_numpy_img = np.array([numpy_img])\n",
    "    pytorch_img = torch.from_numpy(batched_numpy_img).float()\n",
    "\n",
    "    with torch.no_grad():\n",
    "        img=pytorch_img.cuda()\n",
    "        logps = model.forward(img)\n",
    "        \n",
    "    prediction = torch.exp(logps).data\n",
    "    prob, classes=prediction.topk(topk)\n",
    "    top_indices = np.array(prob[0].cpu().numpy())\n",
    "    classes = np.array(classes.cpu().numpy())\n",
    "    idx_to_class = {x: y for y, x in model.class_to_idx.items()}\n",
    "    top_classes = np.array([idx_to_class[x] for x in classes[0]])\n",
    "    return top_indices, top_classes"
   ]
  },
  {
   "cell_type": "code",
   "execution_count": 40,
   "metadata": {},
   "outputs": [],
   "source": [
    "checkpoint_path = 'model_checkpoint.pth'\n",
    "model = load_model_from_checkpoint(checkpoint_path)"
   ]
  },
  {
   "cell_type": "code",
   "execution_count": 41,
   "metadata": {
    "scrolled": false
   },
   "outputs": [
    {
     "name": "stdout",
     "output_type": "stream",
     "text": [
      "[0.7039073  0.23520873 0.03181623 0.02025459 0.00181027]\n",
      "['5' '12' '100' '65' '59']\n"
     ]
    }
   ],
   "source": [
    "image_path = \"flowers/test/5/image_05169.jpg\"\n",
    "probs, classes = predict(image_path, model)\n",
    "\n",
    "print (probs)\n",
    "print (classes)"
   ]
  },
  {
   "cell_type": "code",
   "execution_count": null,
   "metadata": {},
   "outputs": [],
   "source": [
    "# top_indices = np.array(ps[1][0].cpu().numpy())\n",
    "# idx_to_class = {x: y for y, x in class_to_idx.items()}\n",
    "# top_classes = [idx_to_class[x] for x in top_indices]"
   ]
  },
  {
   "cell_type": "markdown",
   "metadata": {},
   "source": [
    "## Sanity Checking\n",
    "\n",
    "Now that you can use a trained model for predictions, check to make sure it makes sense. Even if the testing accuracy is high, it's always good to check that there aren't obvious bugs. Use `matplotlib` to plot the probabilities for the top 5 classes as a bar graph, along with the input image. It should look like this:\n",
    "\n",
    "<img src='assets/inference_example.png' width=300px>\n",
    "\n",
    "You can convert from the class integer encoding to actual flower names with the `cat_to_name.json` file (should have been loaded earlier in the notebook). To show a PyTorch tensor as an image, use the `imshow` function defined above."
   ]
  },
  {
   "cell_type": "code",
   "execution_count": 42,
   "metadata": {},
   "outputs": [],
   "source": [
    "# TODO: Display an image along with the top 5 classes\n",
    "import json\n",
    "\n",
    "with open('cat_to_name.json', 'r') as f:\n",
    "    cat_to_name = json.load(f)\n",
    "#print(cat_to_name[1])"
   ]
  },
  {
   "cell_type": "code",
   "execution_count": 73,
   "metadata": {},
   "outputs": [
    {
     "name": "stdout",
     "output_type": "stream",
     "text": [
      "prob:[9.9999928e-01 6.2446992e-07 6.0051740e-08 7.0017934e-09 1.3577427e-09]--classes:['102' '6' '79' '2' '84']\n"
     ]
    },
    {
     "data": {
      "image/png": "[encoded data removed]",
      "text/plain": [
       "<Figure size 500x500 with 2 Axes>"
      ]
     },
     "metadata": {},
     "output_type": "display_data"
    }
   ],
   "source": [
    "figure, (axis_1, axis_2) = plt.subplots(2, 1, figsize=(5, 5))\n",
    "path = test_dir + '/102/image_08004.jpg'\n",
    "prob, classes = predict(path, model)\n",
    "\n",
    "print(f\"prob:{prob}--classes:{classes}\")\n",
    "image = process_image(path)\n",
    "imshow(image, ax=axis_1)\n",
    "axis_1.set_title(cat_to_name[str(102)])\n",
    " \n",
    "\n",
    "\n",
    "class_name = [cat_to_name[str(i)] for i in classes]\n",
    "\n",
    "\n",
    "ticks = range(len(classes))\n",
    "div_ = (max(probs)-min(probs))/5.\n",
    "val_ = np.arange(min(probs), max(probs)+.1, div_)\n",
    "\n",
    "axis_2.set_xticks(val_)\n",
    "axis_2.set_yticks(ticks)\n",
    "axis_2.set_yticklabels(class_name)\n",
    "axis_2.set_xlabel('Prediction probability')\n",
    "axis_2.invert_yaxis()\n",
    "axis_2.barh(ticks, probs)\n",
    "\n",
    "\n",
    "\n",
    "plt.show()"
   ]
  },
  {
   "cell_type": "code",
   "execution_count": null,
   "metadata": {},
   "outputs": [],
   "source": []
  },
  {
   "cell_type": "code",
   "execution_count": 22,
   "metadata": {},
   "outputs": [
    {
     "data": {
      "text/plain": [
       "array([0., 0., 0., 0., 1.])"
      ]
     },
     "execution_count": 22,
     "metadata": {},
     "output_type": "execute_result"
    }
   ],
   "source": [
    "np.round(sorted(prob_list), 4)"
   ]
  },
  {
   "cell_type": "markdown",
   "metadata": {},
   "source": [
    "## Reminder for Workspace users\n",
    "If your network becomes very large when saved as a checkpoint, there might be issues with saving backups in your workspace. You should reduce the size of your hidden layers and train again. \n",
    "    \n",
    "We strongly encourage you to delete these large interim files and directories before navigating to another page or closing the browser tab."
   ]
  },
  {
   "cell_type": "code",
   "execution_count": 23,
   "metadata": {},
   "outputs": [],
   "source": [
    "# TODO remove .pth files or move it to a temporary `~/opt` directory in this Workspace"
   ]
  },
  {
   "cell_type": "code",
   "execution_count": null,
   "metadata": {},
   "outputs": [],
   "source": []
  }
 ],
 "metadata": {
  "kernelspec": {
   "display_name": "Python 3 (ipykernel)",
   "language": "python",
   "name": "python3"
  },
  "language_info": {
   "codemirror_mode": {
    "name": "ipython",
    "version": 3
   },
   "file_extension": ".py",
   "mimetype": "text/x-python",
   "name": "python",
   "nbconvert_exporter": "python",
   "pygments_lexer": "ipython3",
   "version": "3.10.11"
  }
 },
 "nbformat": 4,
 "nbformat_minor": 2
}
